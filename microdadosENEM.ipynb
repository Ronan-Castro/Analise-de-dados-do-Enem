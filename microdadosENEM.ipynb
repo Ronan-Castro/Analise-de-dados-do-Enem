{
 "cells": [
  {
   "cell_type": "markdown",
   "id": "ovG-88WfqGu2",
   "metadata": {
    "id": "ovG-88WfqGu2"
   },
   "source": [
    "<h1>Análise dos Microdados do ENEM2019 </h1>"
   ]
  },
  {
   "cell_type": "code",
   "execution_count": 3,
   "id": "b8cc1d3f-cc9d-476c-bcad-80813d055935",
   "metadata": {
    "id": "b8cc1d3f-cc9d-476c-bcad-80813d055935"
   },
   "outputs": [],
   "source": [
    "import pandas as pd\n",
    "import numpy as np\n",
    "import matplotlib.pyplot as plt"
   ]
  },
  {
   "cell_type": "markdown",
   "id": "4dcd0af6-9715-4e2e-8d99-514acf74ab5d",
   "metadata": {
    "id": "4dcd0af6-9715-4e2e-8d99-514acf74ab5d"
   },
   "source": [
    "\n",
    "<h3>Dados referentes à Minas Gerais, trocar os caminhos com os arquivos do link:\n",
    "  https://drive.google.com/drive/folders/1S28dhoI8h5Xj5GCi_lUXaX2cClV2eE3z</h3>"
   ]
  },
  {
   "cell_type": "code",
   "execution_count": 4,
   "id": "1b7dd350-f10c-4187-a1b8-f2277d0e1be3",
   "metadata": {
    "id": "1b7dd350-f10c-4187-a1b8-f2277d0e1be3"
   },
   "outputs": [
    {
     "ename": "EmptyDataError",
     "evalue": "No columns to parse from file",
     "output_type": "error",
     "traceback": [
      "\u001b[1;31m---------------------------------------------------------------------------\u001b[0m",
      "\u001b[1;31mEmptyDataError\u001b[0m                            Traceback (most recent call last)",
      "\u001b[1;32m<ipython-input-4-40cc3696bdd7>\u001b[0m in \u001b[0;36m<module>\u001b[1;34m\u001b[0m\n\u001b[0;32m      1\u001b[0m \u001b[0mdfs\u001b[0m \u001b[1;33m=\u001b[0m \u001b[0mpd\u001b[0m\u001b[1;33m.\u001b[0m\u001b[0mread_csv\u001b[0m\u001b[1;33m(\u001b[0m\u001b[1;34m\"MICRODADOS_ENEM_2019_MG.csv\"\u001b[0m\u001b[1;33m,\u001b[0m \u001b[0mencoding\u001b[0m\u001b[1;33m=\u001b[0m\u001b[1;34m'UTF-8'\u001b[0m \u001b[1;33m)\u001b[0m    \u001b[1;31m#Arquivo referente aos microdados do ENEM2019 do estado de Minas Gerais.\u001b[0m\u001b[1;33m\u001b[0m\u001b[1;33m\u001b[0m\u001b[0m\n\u001b[0;32m      2\u001b[0m \u001b[0mprova\u001b[0m \u001b[1;33m=\u001b[0m \u001b[0mpd\u001b[0m\u001b[1;33m.\u001b[0m\u001b[0mread_csv\u001b[0m\u001b[1;33m(\u001b[0m\u001b[1;34m\"ITENS_PROVA_2019.csv\"\u001b[0m\u001b[1;33m,\u001b[0m \u001b[0mencoding\u001b[0m\u001b[1;33m=\u001b[0m\u001b[1;34m'UTF-8'\u001b[0m \u001b[1;33m,\u001b[0m\u001b[0msep\u001b[0m\u001b[1;33m=\u001b[0m\u001b[1;34m';'\u001b[0m\u001b[1;33m)\u001b[0m \u001b[1;31m#Arquivo referente aos dados das provas do ENEM2019 .\u001b[0m\u001b[1;33m\u001b[0m\u001b[1;33m\u001b[0m\u001b[0m\n\u001b[1;32m----> 3\u001b[1;33m \u001b[0mhab_mat\u001b[0m \u001b[1;33m=\u001b[0m \u001b[0mpd\u001b[0m\u001b[1;33m.\u001b[0m\u001b[0mread_csv\u001b[0m\u001b[1;33m(\u001b[0m\u001b[1;34m'HABILIDADE_MAT.csv'\u001b[0m\u001b[1;33m,\u001b[0m \u001b[0mheader\u001b[0m \u001b[1;33m=\u001b[0m \u001b[1;32mNone\u001b[0m\u001b[1;33m,\u001b[0m\u001b[0msep\u001b[0m\u001b[1;33m=\u001b[0m\u001b[1;34m';'\u001b[0m\u001b[1;33m)\u001b[0m     \u001b[1;31m#Arquivo que contém as descrições das habilidades da prova de matemática.\u001b[0m\u001b[1;33m\u001b[0m\u001b[1;33m\u001b[0m\u001b[0m\n\u001b[0m",
      "\u001b[1;32mD:\\Anaconda\\lib\\site-packages\\pandas\\io\\parsers.py\u001b[0m in \u001b[0;36mread_csv\u001b[1;34m(filepath_or_buffer, sep, delimiter, header, names, index_col, usecols, squeeze, prefix, mangle_dupe_cols, dtype, engine, converters, true_values, false_values, skipinitialspace, skiprows, skipfooter, nrows, na_values, keep_default_na, na_filter, verbose, skip_blank_lines, parse_dates, infer_datetime_format, keep_date_col, date_parser, dayfirst, cache_dates, iterator, chunksize, compression, thousands, decimal, lineterminator, quotechar, quoting, doublequote, escapechar, comment, encoding, dialect, error_bad_lines, warn_bad_lines, delim_whitespace, low_memory, memory_map, float_precision, storage_options)\u001b[0m\n\u001b[0;32m    608\u001b[0m     \u001b[0mkwds\u001b[0m\u001b[1;33m.\u001b[0m\u001b[0mupdate\u001b[0m\u001b[1;33m(\u001b[0m\u001b[0mkwds_defaults\u001b[0m\u001b[1;33m)\u001b[0m\u001b[1;33m\u001b[0m\u001b[1;33m\u001b[0m\u001b[0m\n\u001b[0;32m    609\u001b[0m \u001b[1;33m\u001b[0m\u001b[0m\n\u001b[1;32m--> 610\u001b[1;33m     \u001b[1;32mreturn\u001b[0m \u001b[0m_read\u001b[0m\u001b[1;33m(\u001b[0m\u001b[0mfilepath_or_buffer\u001b[0m\u001b[1;33m,\u001b[0m \u001b[0mkwds\u001b[0m\u001b[1;33m)\u001b[0m\u001b[1;33m\u001b[0m\u001b[1;33m\u001b[0m\u001b[0m\n\u001b[0m\u001b[0;32m    611\u001b[0m \u001b[1;33m\u001b[0m\u001b[0m\n\u001b[0;32m    612\u001b[0m \u001b[1;33m\u001b[0m\u001b[0m\n",
      "\u001b[1;32mD:\\Anaconda\\lib\\site-packages\\pandas\\io\\parsers.py\u001b[0m in \u001b[0;36m_read\u001b[1;34m(filepath_or_buffer, kwds)\u001b[0m\n\u001b[0;32m    460\u001b[0m \u001b[1;33m\u001b[0m\u001b[0m\n\u001b[0;32m    461\u001b[0m     \u001b[1;31m# Create the parser.\u001b[0m\u001b[1;33m\u001b[0m\u001b[1;33m\u001b[0m\u001b[1;33m\u001b[0m\u001b[0m\n\u001b[1;32m--> 462\u001b[1;33m     \u001b[0mparser\u001b[0m \u001b[1;33m=\u001b[0m \u001b[0mTextFileReader\u001b[0m\u001b[1;33m(\u001b[0m\u001b[0mfilepath_or_buffer\u001b[0m\u001b[1;33m,\u001b[0m \u001b[1;33m**\u001b[0m\u001b[0mkwds\u001b[0m\u001b[1;33m)\u001b[0m\u001b[1;33m\u001b[0m\u001b[1;33m\u001b[0m\u001b[0m\n\u001b[0m\u001b[0;32m    463\u001b[0m \u001b[1;33m\u001b[0m\u001b[0m\n\u001b[0;32m    464\u001b[0m     \u001b[1;32mif\u001b[0m \u001b[0mchunksize\u001b[0m \u001b[1;32mor\u001b[0m \u001b[0miterator\u001b[0m\u001b[1;33m:\u001b[0m\u001b[1;33m\u001b[0m\u001b[1;33m\u001b[0m\u001b[0m\n",
      "\u001b[1;32mD:\\Anaconda\\lib\\site-packages\\pandas\\io\\parsers.py\u001b[0m in \u001b[0;36m__init__\u001b[1;34m(self, f, engine, **kwds)\u001b[0m\n\u001b[0;32m    817\u001b[0m             \u001b[0mself\u001b[0m\u001b[1;33m.\u001b[0m\u001b[0moptions\u001b[0m\u001b[1;33m[\u001b[0m\u001b[1;34m\"has_index_names\"\u001b[0m\u001b[1;33m]\u001b[0m \u001b[1;33m=\u001b[0m \u001b[0mkwds\u001b[0m\u001b[1;33m[\u001b[0m\u001b[1;34m\"has_index_names\"\u001b[0m\u001b[1;33m]\u001b[0m\u001b[1;33m\u001b[0m\u001b[1;33m\u001b[0m\u001b[0m\n\u001b[0;32m    818\u001b[0m \u001b[1;33m\u001b[0m\u001b[0m\n\u001b[1;32m--> 819\u001b[1;33m         \u001b[0mself\u001b[0m\u001b[1;33m.\u001b[0m\u001b[0m_engine\u001b[0m \u001b[1;33m=\u001b[0m \u001b[0mself\u001b[0m\u001b[1;33m.\u001b[0m\u001b[0m_make_engine\u001b[0m\u001b[1;33m(\u001b[0m\u001b[0mself\u001b[0m\u001b[1;33m.\u001b[0m\u001b[0mengine\u001b[0m\u001b[1;33m)\u001b[0m\u001b[1;33m\u001b[0m\u001b[1;33m\u001b[0m\u001b[0m\n\u001b[0m\u001b[0;32m    820\u001b[0m \u001b[1;33m\u001b[0m\u001b[0m\n\u001b[0;32m    821\u001b[0m     \u001b[1;32mdef\u001b[0m \u001b[0mclose\u001b[0m\u001b[1;33m(\u001b[0m\u001b[0mself\u001b[0m\u001b[1;33m)\u001b[0m\u001b[1;33m:\u001b[0m\u001b[1;33m\u001b[0m\u001b[1;33m\u001b[0m\u001b[0m\n",
      "\u001b[1;32mD:\\Anaconda\\lib\\site-packages\\pandas\\io\\parsers.py\u001b[0m in \u001b[0;36m_make_engine\u001b[1;34m(self, engine)\u001b[0m\n\u001b[0;32m   1048\u001b[0m             )\n\u001b[0;32m   1049\u001b[0m         \u001b[1;31m# error: Too many arguments for \"ParserBase\"\u001b[0m\u001b[1;33m\u001b[0m\u001b[1;33m\u001b[0m\u001b[1;33m\u001b[0m\u001b[0m\n\u001b[1;32m-> 1050\u001b[1;33m         \u001b[1;32mreturn\u001b[0m \u001b[0mmapping\u001b[0m\u001b[1;33m[\u001b[0m\u001b[0mengine\u001b[0m\u001b[1;33m]\u001b[0m\u001b[1;33m(\u001b[0m\u001b[0mself\u001b[0m\u001b[1;33m.\u001b[0m\u001b[0mf\u001b[0m\u001b[1;33m,\u001b[0m \u001b[1;33m**\u001b[0m\u001b[0mself\u001b[0m\u001b[1;33m.\u001b[0m\u001b[0moptions\u001b[0m\u001b[1;33m)\u001b[0m  \u001b[1;31m# type: ignore[call-arg]\u001b[0m\u001b[1;33m\u001b[0m\u001b[1;33m\u001b[0m\u001b[0m\n\u001b[0m\u001b[0;32m   1051\u001b[0m \u001b[1;33m\u001b[0m\u001b[0m\n\u001b[0;32m   1052\u001b[0m     \u001b[1;32mdef\u001b[0m \u001b[0m_failover_to_python\u001b[0m\u001b[1;33m(\u001b[0m\u001b[0mself\u001b[0m\u001b[1;33m)\u001b[0m\u001b[1;33m:\u001b[0m\u001b[1;33m\u001b[0m\u001b[1;33m\u001b[0m\u001b[0m\n",
      "\u001b[1;32mD:\\Anaconda\\lib\\site-packages\\pandas\\io\\parsers.py\u001b[0m in \u001b[0;36m__init__\u001b[1;34m(self, src, **kwds)\u001b[0m\n\u001b[0;32m   1896\u001b[0m \u001b[1;33m\u001b[0m\u001b[0m\n\u001b[0;32m   1897\u001b[0m         \u001b[1;32mtry\u001b[0m\u001b[1;33m:\u001b[0m\u001b[1;33m\u001b[0m\u001b[1;33m\u001b[0m\u001b[0m\n\u001b[1;32m-> 1898\u001b[1;33m             \u001b[0mself\u001b[0m\u001b[1;33m.\u001b[0m\u001b[0m_reader\u001b[0m \u001b[1;33m=\u001b[0m \u001b[0mparsers\u001b[0m\u001b[1;33m.\u001b[0m\u001b[0mTextReader\u001b[0m\u001b[1;33m(\u001b[0m\u001b[0mself\u001b[0m\u001b[1;33m.\u001b[0m\u001b[0mhandles\u001b[0m\u001b[1;33m.\u001b[0m\u001b[0mhandle\u001b[0m\u001b[1;33m,\u001b[0m \u001b[1;33m**\u001b[0m\u001b[0mkwds\u001b[0m\u001b[1;33m)\u001b[0m\u001b[1;33m\u001b[0m\u001b[1;33m\u001b[0m\u001b[0m\n\u001b[0m\u001b[0;32m   1899\u001b[0m         \u001b[1;32mexcept\u001b[0m \u001b[0mException\u001b[0m\u001b[1;33m:\u001b[0m\u001b[1;33m\u001b[0m\u001b[1;33m\u001b[0m\u001b[0m\n\u001b[0;32m   1900\u001b[0m             \u001b[0mself\u001b[0m\u001b[1;33m.\u001b[0m\u001b[0mhandles\u001b[0m\u001b[1;33m.\u001b[0m\u001b[0mclose\u001b[0m\u001b[1;33m(\u001b[0m\u001b[1;33m)\u001b[0m\u001b[1;33m\u001b[0m\u001b[1;33m\u001b[0m\u001b[0m\n",
      "\u001b[1;32mpandas\\_libs\\parsers.pyx\u001b[0m in \u001b[0;36mpandas._libs.parsers.TextReader.__cinit__\u001b[1;34m()\u001b[0m\n",
      "\u001b[1;31mEmptyDataError\u001b[0m: No columns to parse from file"
     ]
    }
   ],
   "source": [
    "dfs = pd.read_csv(\"MICRODADOS_ENEM_2019_MG.csv\", encoding='UTF-8' )    #Arquivo referente aos microdados do ENEM2019 do estado de Minas Gerais.\n",
    "prova = pd.read_csv(\"ITENS_PROVA_2019.csv\", encoding='UTF-8' ,sep=';') #Arquivo referente aos dados das provas do ENEM2019 .\n",
    "hab_mat = pd.read_csv('HABILIDADE_MAT.csv', header = None,sep=';')     #Arquivo que contém as descrições das habilidades da prova de matemática."
   ]
  },
  {
   "cell_type": "markdown",
   "id": "rxEU4reCkJ80",
   "metadata": {
    "id": "rxEU4reCkJ80"
   },
   "source": [
    "Para entender mais sober os dados visite: https://docs.google.com/spreadsheets/d/1TwOLgWxz7aDPs64U9H-UyUMtT48cTy4M04bNRk0WsUs/edit?usp=sharing"
   ]
  },
  {
   "cell_type": "code",
   "execution_count": null,
   "id": "Nwz10S0Vxcyy",
   "metadata": {
    "colab": {
     "base_uri": "https://localhost:8080/",
     "height": 408
    },
    "id": "Nwz10S0Vxcyy",
    "outputId": "b8bf91a9-3a75-4631-f1de-23cddb8b23f4"
   },
   "outputs": [],
   "source": [
    "dfs.sample(10)"
   ]
  },
  {
   "cell_type": "markdown",
   "id": "PfIeGAn5T4M0",
   "metadata": {
    "id": "PfIeGAn5T4M0"
   },
   "source": [
    "\n",
    "Abaixo estamos selecionando apenas os alunos inscritos no enem que não são treineiros e tiveram presença em todas as provas"
   ]
  },
  {
   "cell_type": "code",
   "execution_count": null,
   "id": "lyfcFpP4SFBa",
   "metadata": {
    "id": "lyfcFpP4SFBa"
   },
   "outputs": [],
   "source": [
    "df = dfs.loc[dfs['IN_TREINEIRO']==0] #Retira todos os treineiros da base\n",
    "df = df.loc[df['TP_PRESENCA_CN']==1] #Retira todos que não fizeram a prova de Ciências da Natureza \n",
    "df = df.loc[df['TP_PRESENCA_CH']==1] #Retira todos que não fizeram a prova de Ciências Humanas \n",
    "df = df.loc[df['TP_PRESENCA_LC']==1] #Retira todos que não fizeram a prova de Linguagens e Códigos\n",
    "df = df.loc[df['TP_PRESENCA_MT']==1] #Retira todos que não fizeram a prova de Matemática"
   ]
  },
  {
   "cell_type": "code",
   "execution_count": null,
   "id": "zsGQMug7Zpp5",
   "metadata": {
    "id": "zsGQMug7Zpp5"
   },
   "outputs": [],
   "source": []
  },
  {
   "cell_type": "markdown",
   "id": "yIo4WPfhLgoQ",
   "metadata": {
    "id": "yIo4WPfhLgoQ"
   },
   "source": [
    "# A renda dos participantes influencia na nota?"
   ]
  },
  {
   "cell_type": "markdown",
   "id": "Fs2rNHoUsiuD",
   "metadata": {
    "id": "Fs2rNHoUsiuD"
   },
   "source": [
    "<h3>Análise relacionando fatores com a faixa de renda dos inscritos </h3>"
   ]
  },
  {
   "cell_type": "markdown",
   "id": "-UsZ33hMytMc",
   "metadata": {
    "id": "-UsZ33hMytMc"
   },
   "source": [
    "<h4>A faixa de renda é a seguinte: </h4>\n",
    "\n",
    "<table>\n",
    "    <tr> <th> Letra </th> <th> Renda mensal da família </th></tr>    \n",
    "    <tr> <td> A </td> <td> Nenhuma renda.</td></tr>\n",
    "    <tr> <td> B </td> <td> Até R$ 998,00.</td></tr>\n",
    "    <tr> <td> C </td> <td> De R$ 998,01 até R$ 1.497,00.</td></tr>\n",
    "    <tr> <td> D </td> <td> De R$ 1.497,01 até R$ 1.996,00.</td></tr>\n",
    "    <tr> <td> E </td> <td> De R$ 1.996,01 até R$ 2.495,00.</td></tr>\n",
    "    <tr> <td> F </td> <td> De R$ 2.495,01 até R$ 2.994,00.</td></tr>\n",
    "    <tr> <td> G </td> <td> De R$ 2.994,01 até R$ 3.992,00.</td></tr>\n",
    "    <tr> <td> H </td> <td> De R$ 3.992,01 até R$ 4.990,00.</td></tr>\n",
    "    <tr> <td> I </td> <td> De R$ 4.990,01 até R$ 5.988,00.</td></tr>\n",
    "    <tr> <td> J </td> <td> De R$ 5.988,01 até R$ 6.986,00.</td></tr>\n",
    "    <tr> <td> K </td> <td> De R$ 6.986,01 até R$ 7.984,00.</td></tr>\n",
    "    <tr> <td> L </td> <td> De R$ 7.984,01 até R$ 8.982,00.</td></tr>\n",
    "    <tr> <td> M </td> <td> De R$ 8.982,01 até R$ 9.980,00.</td></tr>\n",
    "    <tr> <td> N </td> <td> De R$ 9.980,01 até R$ 11.976,00.</td></tr>\n",
    "    <tr> <td> O </td> <td> De R$ 11.976,01 até R$ 14.970,00.</td></tr>\n",
    "    <tr> <td> P </td> <td> De R$ 14.970,01 até R$ 19.960,00.</td></tr>\n",
    "    <tr> <td> Q </td> <td> Mais de R$ 19.960,00.</td></tr>\n",
    "</table>"
   ]
  },
  {
   "cell_type": "markdown",
   "id": "ZnWfdmsd0c3y",
   "metadata": {
    "id": "ZnWfdmsd0c3y"
   },
   "source": [
    "<h4>Média da nota por renda famíliar na prova de Ciências da natureza</h4>"
   ]
  },
  {
   "cell_type": "code",
   "execution_count": null,
   "id": "d44711d5-89f6-474d-8266-0cd1f2b44495",
   "metadata": {
    "colab": {
     "base_uri": "https://localhost:8080/"
    },
    "id": "d44711d5-89f6-474d-8266-0cd1f2b44495",
    "outputId": "42f892fe-5dd2-4c4d-c824-60da365e64c9"
   },
   "outputs": [],
   "source": [
    "df.groupby('Q006')['NU_NOTA_CN'].mean().plot(kind=\"bar\")"
   ]
  },
  {
   "cell_type": "markdown",
   "id": "t_jiPgpd0wNl",
   "metadata": {
    "id": "t_jiPgpd0wNl"
   },
   "source": [
    "<h4>Média da nota por renda famíliar na prova de Ciências humanas</h4>"
   ]
  },
  {
   "cell_type": "code",
   "execution_count": null,
   "id": "1f609a4d-3696-458a-93f6-90ef6b9b8598",
   "metadata": {
    "colab": {
     "base_uri": "https://localhost:8080/"
    },
    "id": "1f609a4d-3696-458a-93f6-90ef6b9b8598",
    "outputId": "e3e427f1-d4ee-4d9c-ff97-e86a0e53fd22"
   },
   "outputs": [],
   "source": [
    "df.groupby('Q006')['NU_NOTA_CH'].mean().plot(kind='bar')"
   ]
  },
  {
   "cell_type": "markdown",
   "id": "gxkKzRgm0zfP",
   "metadata": {
    "id": "gxkKzRgm0zfP"
   },
   "source": [
    "<h4>Média da nota por renda famíliar na prova de Linguagens e Códigos</h4>"
   ]
  },
  {
   "cell_type": "code",
   "execution_count": null,
   "id": "aeac6d7d-c1c1-4e44-b8de-5eb291ec1004",
   "metadata": {
    "colab": {
     "base_uri": "https://localhost:8080/"
    },
    "id": "aeac6d7d-c1c1-4e44-b8de-5eb291ec1004",
    "outputId": "519d95bf-cdfc-44d6-a563-f3a9529f1a5a"
   },
   "outputs": [],
   "source": [
    "df.groupby('Q006')['NU_NOTA_LC'].mean().plot(kind='bar')"
   ]
  },
  {
   "cell_type": "markdown",
   "id": "6fQQn62702xy",
   "metadata": {
    "id": "6fQQn62702xy"
   },
   "source": [
    "<h4>Média da nota por renda famíliar na prova de Matemática</h4>"
   ]
  },
  {
   "cell_type": "code",
   "execution_count": null,
   "id": "d385060a-29ed-42bb-9692-df0208254652",
   "metadata": {
    "colab": {
     "base_uri": "https://localhost:8080/"
    },
    "id": "d385060a-29ed-42bb-9692-df0208254652",
    "outputId": "d08797f4-d1d4-4909-bb31-6091c990074a"
   },
   "outputs": [],
   "source": [
    "df.groupby('Q006')['NU_NOTA_MT'].mean().plot(kind=\"bar\")"
   ]
  },
  {
   "cell_type": "markdown",
   "id": "MMl7GIv21ESJ",
   "metadata": {
    "id": "MMl7GIv21ESJ"
   },
   "source": [
    "<h4>Média da nota por renda famíliar na redação</h4>"
   ]
  },
  {
   "cell_type": "code",
   "execution_count": null,
   "id": "34260acc-953f-4295-b5bf-1df24ca22513",
   "metadata": {
    "colab": {
     "base_uri": "https://localhost:8080/"
    },
    "id": "34260acc-953f-4295-b5bf-1df24ca22513",
    "outputId": "7a07968e-cc19-4ba3-86ef-14b28d159277"
   },
   "outputs": [],
   "source": [
    "df.groupby('Q006')['NU_NOTA_REDACAO'].mean().plot(kind='bar')"
   ]
  },
  {
   "cell_type": "markdown",
   "id": "kZmimCLGLm9g",
   "metadata": {
    "id": "kZmimCLGLm9g"
   },
   "source": [
    "# Quais outros fatores a renda influencia?"
   ]
  },
  {
   "cell_type": "markdown",
   "id": "5l7bXXBrpaAV",
   "metadata": {
    "id": "5l7bXXBrpaAV"
   },
   "source": [
    "<h3>Análise de faltantes </h3>\n",
    "<h4>Abaixo passo os dados de quantas pessoas tem em cada pessoa para uma </h4>"
   ]
  },
  {
   "cell_type": "code",
   "execution_count": null,
   "id": "352b9ab3-360d-4555-ad38-b2376b254c58",
   "metadata": {
    "id": "352b9ab3-360d-4555-ad38-b2376b254c58"
   },
   "outputs": [],
   "source": [
    "df_p = dfs[dfs['TP_PRESENCA_LC']==0]\n",
    "df_p = df_p[df_p['IN_TREINEIRO']==0]"
   ]
  },
  {
   "cell_type": "code",
   "execution_count": null,
   "id": "34862935-972b-4f2f-bad0-fc250c0dd857",
   "metadata": {
    "id": "34862935-972b-4f2f-bad0-fc250c0dd857"
   },
   "outputs": [],
   "source": [
    "faltantes = df_p.groupby('Q006')['TP_PRESENCA_LC'].count().tolist()\n",
    "inscritos = dfs.groupby('Q006')['NU_INSCRICAO'].count().tolist()"
   ]
  },
  {
   "cell_type": "code",
   "execution_count": null,
   "id": "e2f5d68f-aca1-4337-8222-70ec3f48d813",
   "metadata": {
    "id": "e2f5d68f-aca1-4337-8222-70ec3f48d813"
   },
   "outputs": [],
   "source": [
    "porcentagens_faltas = []\n",
    "for i in range(len(inscritos)):\n",
    "    porcentagens_faltas.append(((faltantes[i]*100) / inscritos[i]))"
   ]
  },
  {
   "cell_type": "code",
   "execution_count": null,
   "id": "b4aa8d0b-13b8-4043-a728-724b1659dcfc",
   "metadata": {
    "colab": {
     "base_uri": "https://localhost:8080/",
     "height": 286
    },
    "id": "b4aa8d0b-13b8-4043-a728-724b1659dcfc",
    "outputId": "12d03f86-6d35-4e88-ede9-57465a9ee1fd"
   },
   "outputs": [],
   "source": [
    "plt.bar(['A','B','C','D','E','F','G','H','I','J',' K','L','M','N','O','P','Q'],porcentagens_faltas)"
   ]
  },
  {
   "cell_type": "code",
   "execution_count": null,
   "id": "fdskrz784l1N",
   "metadata": {
    "colab": {
     "base_uri": "https://localhost:8080/"
    },
    "id": "fdskrz784l1N",
    "outputId": "1e9263c9-5690-48cf-dc84-f156525a05c6"
   },
   "outputs": [],
   "source": [
    "porcentagens_faltas"
   ]
  },
  {
   "cell_type": "markdown",
   "id": "kkzePQSMMEDr",
   "metadata": {
    "id": "kkzePQSMMEDr"
   },
   "source": [
    "# Escolas Particulares x Públicas, quais habilidades são mais erradas pelo ensino publico?"
   ]
  },
  {
   "cell_type": "code",
   "execution_count": null,
   "id": "xoa-xPq2aiQm",
   "metadata": {
    "id": "xoa-xPq2aiQm"
   },
   "outputs": [],
   "source": []
  },
  {
   "cell_type": "markdown",
   "id": "xgIbmdrFXWbJ",
   "metadata": {
    "id": "xgIbmdrFXWbJ"
   },
   "source": [
    "<h3> Motivação para a questão abaixo sendo: </h3>\n",
    "<table>\n",
    "    <tr> <th> Número </th> <th> Qual o tipo de escola </th></tr>    \n",
    "    <tr> <td> 1 </td> <td> Não respondeu.</td></tr>\n",
    "    <tr> <td> 2 </td> <td> Escola Pública. </td></tr>\n",
    "    <tr> <td> 3 </td> <td> Escola Particular.</td></tr>\n",
    "\n",
    "</table>\n",
    "---\n",
    "\n"
   ]
  },
  {
   "cell_type": "code",
   "execution_count": null,
   "id": "hGtV35bSXVTR",
   "metadata": {
    "colab": {
     "base_uri": "https://localhost:8080/"
    },
    "id": "hGtV35bSXVTR",
    "outputId": "2758b7fa-c781-4655-eb2e-d166f743bc94"
   },
   "outputs": [],
   "source": [
    "notas_pubxpar = df[df['TP_PRESENCA_MT']==1]\n",
    "notas_pubxpar.groupby('TP_ESCOLA')['NU_NOTA_MT'].mean()"
   ]
  },
  {
   "cell_type": "markdown",
   "id": "ZaopvmyHxwf2",
   "metadata": {
    "id": "ZaopvmyHxwf2"
   },
   "source": [
    "<h3> Análise da diferença dos acertos nas provas em relações as habildades</h3>\n",
    "<h4> Existem habilidades que possuem um desvio mt grande da média quando se difere o tipo de escola se é pública ou não</h4>"
   ]
  },
  {
   "cell_type": "code",
   "execution_count": null,
   "id": "9DL53Bo8FzBh",
   "metadata": {
    "id": "9DL53Bo8FzBh"
   },
   "outputs": [],
   "source": [
    "num_prova = [515,516,517,518] #Códigos das 4 diferentes cores de cadernos de matemática do ENEM 2019\n",
    "prova = prova[prova['CO_PROVA'].notnull()] \n",
    "frames = []\n",
    "errosPub = []\n",
    "#Para cada cor de caderno:\n",
    "for num in num_prova:\n",
    "  #Seleciona a prova que tem o código igual à cor que está iterando\n",
    "  analise_questoes = df[df['CO_PROVA_MT']==num]\n",
    "  analise_questoes = analise_questoes[analise_questoes['TP_ESCOLA']==2] #Seleciona só escolas públicas\n",
    "  analise_questoes = analise_questoes[analise_questoes['TP_PRESENCA_MT']==1] #Seleciona só quem esteve presente na prova de matemática\n",
    "  analise_questoes = analise_questoes[analise_questoes['IN_TREINEIRO']==0] #Remove todos os treineiros da base\n",
    "\n",
    "  #Passa as respostas de todas as pessoas para uma lista, gerando para cada inscrito uma lista dentro dessa lista questoes_marcadas com todos os resultados\n",
    "  questoes_marcadas = analise_questoes['TX_RESPOSTAS_MT'].tolist() \n",
    "\n",
    "  questoes_gabarito_tmp = analise_questoes['TX_GABARITO_MT'].tolist()\n",
    "  questoes_gabarito = questoes_gabarito_tmp[0] #questoes_gabarito é uma lista que recebe o gabarito do caderno da cor selecionada\n",
    "\n",
    " #inicia uma matriz de nxm sendo n = tamanho de inscritos que fizeram o caderno que estamos iterando\n",
    " # m = quantidade de questões na prova = 45 (Sempre constante).\n",
    "  vetorErros = np.zeros(((len(questoes_marcadas)),45),dtype=np.int64)\n",
    "\n",
    "#Para cada inscrito:\n",
    "  for alunos in range(len(questoes_marcadas)):\n",
    "    #Para cada questão:\n",
    "    for i in range(45):\n",
    "      #Se o aulo acertou, na matriz de erros ele adiciona um 1 para cada erro no index = questão errada\n",
    "      if (questoes_marcadas[alunos][i] != questoes_gabarito[i] ):\n",
    "        vetorErros[alunos][i] += 1\n",
    "  errosPub.append(vetorErros)\n",
    "  #Então vE recebe a média de erros (soma de todos os erros / todos que fizeram a questão)\n",
    "  vE = np.true_divide(vetorErros.sum(axis=0), len(questoes_marcadas))\n",
    "\n",
    "  #prova_mat recebe um vetor com as informações das provas para cruzar dados de habilidade de questão com a porcentagem de erros.\n",
    "  prova_mat = prova[prova['CO_PROVA'].notnull()] \n",
    "  prova_mat = prova_mat[prova_mat['CO_PROVA']==num]\n",
    "  prova_mat['PORCENTAGEM_ERRO_PUBLICA'] = vE\n",
    "  frames.append(prova_mat)\n",
    "\n",
    "#Guardamos então os dados para todas as questões no dataframe resultPublica\n",
    "resultPublica = pd.concat(frames)\n",
    "\n",
    "\n",
    "#O código abaixo é o mesmo do de cima, só muda quando seleciona o 'TP_ESCOLA'== 3 (Escolas Particulares)\n",
    "num_prova = [515,516,517,518]\n",
    "prova = prova[prova['CO_PROVA'].notnull()] \n",
    "frames = []\n",
    "errosPart = []\n",
    "for num in num_prova:\n",
    "  analise_questoes = df[df['CO_PROVA_MT']==num]\n",
    "  analise_questoes = analise_questoes[analise_questoes['TP_ESCOLA']==3]\n",
    "  analise_questoes = analise_questoes[analise_questoes['TP_PRESENCA_MT']==1]\n",
    "  analise_questoes = analise_questoes[analise_questoes['IN_TREINEIRO']==0]\n",
    "\n",
    "  questoes_marcadas = analise_questoes['TX_RESPOSTAS_MT'].tolist()\n",
    "\n",
    "  questoes_gabarito_tmp = analise_questoes['TX_GABARITO_MT'].tolist()\n",
    "  questoes_gabarito = questoes_gabarito_tmp[0]\n",
    "\n",
    "  vetorErros = np.zeros(((len(questoes_marcadas)),45),dtype=np.int64)\n",
    "\n",
    "  for alunos in range(len(questoes_marcadas)):\n",
    "    for i in range(45):\n",
    "      if (questoes_marcadas[alunos][i] != questoes_gabarito[i] ):\n",
    "        vetorErros[alunos][i] += 1\n",
    "  errosPart.append(vetorErros)\n",
    "  vE = np.true_divide(vetorErros.sum(axis=0), len(questoes_marcadas))\n",
    "  prova_mat = prova[prova['CO_PROVA'].notnull()] \n",
    "  prova_mat = prova_mat[prova_mat['CO_PROVA']==num]\n",
    "  prova_mat['PORCENTAGEM_ERRO_PRIVADA'] = vE\n",
    "  frames.append(prova_mat)\n",
    "\n",
    "\n",
    "resultPrivada = pd.concat(frames)"
   ]
  },
  {
   "cell_type": "code",
   "execution_count": null,
   "id": "1z9yCtDJZ9bN",
   "metadata": {
    "colab": {
     "base_uri": "https://localhost:8080/"
    },
    "id": "1z9yCtDJZ9bN",
    "outputId": "8cac17dd-b7f7-48d9-9e05-bbb45132d113"
   },
   "outputs": [],
   "source": [
    "somaPub = 0\n",
    "somaPart = 0\n",
    "for i in errosPub:\n",
    "  somaPub += sum(i)\n",
    "for i in errosPart:\n",
    "  somaPart += sum(i)\n",
    "\n",
    "lenTotalPub = (len(errosPub[0])+len(errosPub[1])+len(errosPub[2])+len(errosPub[3]))\n",
    "lenTotalPart = (len(errosPart[0])+len(errosPart[1])+len(errosPart[2])+len(errosPart[3]))\n",
    "\n",
    "print('Público : ', sum(somaPub)/lenTotalPub)\n",
    "print('Particular : ', sum(somaPart)/lenTotalPart)"
   ]
  },
  {
   "cell_type": "code",
   "execution_count": null,
   "id": "ikoGTWTaGyuE",
   "metadata": {
    "id": "ikoGTWTaGyuE"
   },
   "outputs": [],
   "source": [
    "#Criando um novo dataframe pubxparticular para armazenar os dados que acabamos de obter\n",
    "pubxparticular = pd.DataFrame(columns = ['Porcentagem de Erros Escola Pública', 'Porcentagem de Erros Escola Particular'])\n",
    "pubxparticular['Porcentagem de Erros Escola Pública'] = resultPublica.groupby('CO_HABILIDADE')['PORCENTAGEM_ERRO_PUBLICA'].mean()\n",
    "pubxparticular['Porcentagem de Erros Escola Particular'] = resultPrivada.groupby('CO_HABILIDADE')['PORCENTAGEM_ERRO_PRIVADA'].mean()\n",
    "pubxparticular['Descrição da habilidade'] = hab_mat[0]\n",
    "percentErrosGerais = pubxparticular\n",
    "pubxparticular['Diferença entre Escola Pública e Particular'] = pubxparticular['Porcentagem de Erros Escola Pública'] - pubxparticular['Porcentagem de Erros Escola Particular']"
   ]
  },
  {
   "cell_type": "code",
   "execution_count": null,
   "id": "J--ExHSxIZtt",
   "metadata": {
    "colab": {
     "base_uri": "https://localhost:8080/",
     "height": 979
    },
    "id": "J--ExHSxIZtt",
    "outputId": "61d0a662-b12f-4861-8f69-18bdbb225fbd"
   },
   "outputs": [],
   "source": [
    "pubxparticular.sort_values(by ='Diferença entre Escola Pública e Particular', ascending=False)"
   ]
  },
  {
   "cell_type": "code",
   "execution_count": null,
   "id": "DTB38bRvmJW9",
   "metadata": {
    "colab": {
     "base_uri": "https://localhost:8080/",
     "height": 979
    },
    "id": "DTB38bRvmJW9",
    "outputId": "b439fa77-41c2-4c14-8adc-4946e3f3e96c"
   },
   "outputs": [],
   "source": [
    "percentErrosGerais = percentErrosGerais.rename(columns = {'Diferença entre Escola Pública e Particular': 'Média de Erros dos Alunos'}, inplace = False)\n",
    "percentErrosGerais['Média de Erros dos Alunos'] = (percentErrosGerais['Porcentagem de Erros Escola Pública'] + percentErrosGerais['Porcentagem de Erros Escola Particular'])/2\n",
    "percentErrosGerais.sort_values(by ='Média de Erros dos Alunos', ascending=False)"
   ]
  },
  {
   "cell_type": "markdown",
   "id": "-x8O-Yk8KyeC",
   "metadata": {
    "id": "-x8O-Yk8KyeC"
   },
   "source": [
    "<h3> Descrições completas das habilidades</h3>\n",
    "<h4>Tabela: </h4>\n",
    "<table>\n",
    "    <tr> <th> Número da habilidade (CO_HABILIDADE) </th> <th> Descrição da habilidade</th></tr>    \n",
    "    <tr> <td> 1 </td> <td> Reconhecer, no contexto social, diferentes significados e representações dos números e operações - naturais, inteiros, racionais ou reais. </td></tr>\n",
    "    <tr> <td> 2 </td> <td>Identificar padrões numéricos ou princípios de contagem.</td></tr>\n",
    "    <tr> <td> 3 </td> <td> Resolver situação-problema envolvendo conhecimentos numéricos.</td></tr>\n",
    "    <tr> <td> 4 </td> <td> Avaliar a razoabilidade de um resultado numérico na construção de argumentos sobre afirmações quantitativas.</td></tr>\n",
    "    <tr> <td> 5 </td> <td> Avaliar propostas de intervenção na realidade utilizando conhecimentos numéricos.</td></tr>\n",
    "    <tr> <td> 6 </td> <td>Interpretar a localização e a movimentação de pessoas/objetos no espaço tridimensional e sua representação no espaço bidimensional.;\n",
    "</td></tr>\n",
    "    <tr> <td> 7 </td> <td> Identificar características de figuras planas ou espaciais.;\n",
    "</td></tr>\n",
    "    <tr> <td> 8 </td> <td> Resolver situação-problema que envolva conhecimentos geométricos de espaço e forma.;\n",
    "</td></tr>\n",
    "    <tr> <td> 9 </td> <td> Utilizar conhecimentos geométricos de espaço e forma na seleção de argumentos propostos como solução de problemas do cotidiano.;\n",
    "</td></tr>\n",
    "    <tr> <td> 10 </td> <td> Identificar relações entre grandezas e unidades de medida.;\n",
    "</td></tr>\n",
    "    <tr> <td> 11</td> <td>Utilizar a noção de escalas na leitura de representação de situação do cotidiano.;\n",
    "</td></tr>\n",
    "    <tr> <td> 12 </td> <td> Resolver situação-problema que envolva medidas de grandezas.;\n",
    "</td></tr>\n",
    "    <tr> <td> 13 </td> <td>Avaliar o resultado de uma medição na construção de um argumento consistente.;\n",
    "</td></tr>\n",
    "    <tr> <td> 14 </td> <td> Avaliar proposta de intervenção na realidade utilizando conhecimentos geométricos relacionados a grandezas e medidas.;\n",
    "</td></tr>\n",
    "    <tr> <td> 15 </td> <td>Identificar a relação de dependência entre grandezas.;\n",
    "</td></tr>\n",
    "    <tr> <td> 16 </td> <td> Resolver situação-problema envolvendo a variação de grandezas, direta ou inversamente proporcionais.;\n",
    "</td></tr>\n",
    "    <tr> <td> 17 </td> <td> Analisar informações envolvendo a variação de grandezas como recurso para a construção de argumentação.;\n",
    "</td></tr>\n",
    "    <tr> <td> 18 </td> <td> Avaliar propostas de intervenção na realidade envolvendo variação de grandezas.;\n",
    "</td></tr>\n",
    "    <tr> <td> 19 </td> <td> Identificar representações algébricas que expressem a relação entre grandezas.;\n",
    "</td></tr>\n",
    "    <tr> <td> 20 </td> <td> Interpretar gráfico cartesiano que represente relações entre grandezas.;\n",
    "</td></tr>\n",
    "    <tr> <td> 21 </td> <td>Resolver situação-problema cuja modelagem envolva conhecimentos algébricos.;\n",
    "</td></tr>\n",
    "    <tr> <td> 22 </td> <td> Utilizar conhecimentos algébricos/geométricos como recurso para a construção de argumentação.;\n",
    "</td></tr>\n",
    "    <tr> <td> 23 </td> <td> Avaliar propostas de intervenção na realidade utilizando conhecimentos algébricos.;\n",
    "</td></tr>\n",
    "    <tr> <td> 24 </td> <td> Utilizar informações expressas em gráficos ou tabelas para fazer inferências.;\n",
    "</td></tr>\n",
    "    <tr> <td> 25 </td> <td> Resolver problema com dados apresentados em tabelas ou gráficos.;\n",
    "</td></tr>\n",
    "    <tr> <td> 26 </td> <td> Analisar informações expressas em gráficos ou tabelas como recurso para aconstrução de argumentos.;\n",
    "</td></tr>\n",
    "    <tr> <td> 27 </td> <td> Analisar informações expressas em gráficos ou tabelas como recurso para a construção de argumentos.;\n",
    "</td></tr>\n",
    "    <tr> <td> 28 </td> <td> Resolver situação-problema que envolva conhecimentos de estatística e probabilidade.;\n",
    "</td></tr>\n",
    "    <tr> <td> 29 </td> <td> Utilizar conhecimentos de estatística e probabilidade como recurso para a construção de argumentação;\n",
    "</td></tr>\n",
    "    <tr> <td> 30 </td> <td> Avaliar propostas de intervenção na realidade utilizando conhecimentos de estatística e probabilidade.\n",
    "</td></tr>\n",
    "\n",
    "</table>\n"
   ]
  },
  {
   "cell_type": "markdown",
   "id": "Firh6gckMX08",
   "metadata": {
    "id": "Firh6gckMX08"
   },
   "source": [
    "# A escolaridade dos pais influencia nas notas?"
   ]
  },
  {
   "cell_type": "markdown",
   "id": "xuJhNFcFHNwa",
   "metadata": {
    "id": "xuJhNFcFHNwa"
   },
   "source": [
    "<h3> Média de nota geral dos alunos de acordo com a escolaridade paterna/homem responsável</h3>\n",
    "<h4>Tabela: </h4>\n",
    "<table>\n",
    "    <tr> <th> Letra </th> <th> Até que série seu pai, ou o homem responsável por você, estudou? </th></tr>    \n",
    "    <tr> <td> A </td> <td> Nunca estudou.</td></tr>\n",
    "    <tr> <td> B </td> <td> Não completou a 4ª série/5º ano do Ensino Fundamental.</td></tr>\n",
    "    <tr> <td> C </td> <td> Completou a 4ª série/5º ano, mas não completou a 8ª série/9º ano do Ensino Fundamental.</td></tr>\n",
    "    <tr> <td> D </td> <td> Completou a 8ª série/9º ano do Ensino Fundamental, mas não completou o Ensino Médio.</td></tr>\n",
    "    <tr> <td> E </td> <td> Completou o Ensino Médio, mas não completou a Faculdade.</td></tr>\n",
    "    <tr> <td> F </td> <td> Completou a Faculdade, mas não completou a Pós-graduação.</td></tr>\n",
    "    <tr> <td> G </td> <td> Completou a Pós-graduação.</td></tr>\n",
    "    <tr> <td> H </td> <td> Não sei.</td></tr>\n",
    "</table>"
   ]
  },
  {
   "cell_type": "markdown",
   "id": "Ahka1H0EkxCo",
   "metadata": {
    "id": "Ahka1H0EkxCo"
   },
   "source": [
    "<h3>Análise de performance na prova de matemática em relação à escolaridade dos pais  </h3>"
   ]
  },
  {
   "cell_type": "code",
   "execution_count": null,
   "id": "Ryt73iyVftl0",
   "metadata": {
    "colab": {
     "base_uri": "https://localhost:8080/"
    },
    "id": "Ryt73iyVftl0",
    "outputId": "2b354a7f-3edc-4bb7-d0f4-caa9f7f4c149"
   },
   "outputs": [],
   "source": [
    "dfC = dfs[dfs['IN_TREINEIRO']==0]\n",
    "dfC = dfC[dfC['TP_PRESENCA_MT']==1]\n",
    "dfC = dfC[dfC['TP_PRESENCA_MT']==1]\n",
    "dfC.groupby('Q001')['NU_NOTA_MT'].mean()"
   ]
  },
  {
   "cell_type": "markdown",
   "id": "svrWhclx7_iM",
   "metadata": {
    "id": "svrWhclx7_iM"
   },
   "source": [
    "<h3> Média de nota geral dos alunos de acordo com a escolaridade materna/mulher responsável</h3>\n",
    "<h4>Tabela: </h4>\n",
    "<table>\n",
    "    <tr> <th> Letra </th> <th> Até que série sua mãe, ou o mulher responsável por você, estudou? </th></tr>    \n",
    "    <tr> <td> A </td> <td> Nunca estudou.</td></tr>\n",
    "    <tr> <td> B </td> <td> Não completou a 4ª série/5º ano do Ensino Fundamental.</td></tr>\n",
    "    <tr> <td> C </td> <td> Completou a 4ª série/5º ano, mas não completou a 8ª série/9º ano do Ensino Fundamental.</td></tr>\n",
    "    <tr> <td> D </td> <td> Completou a 8ª série/9º ano do Ensino Fundamental, mas não completou o Ensino Médio.</td></tr>\n",
    "    <tr> <td> E </td> <td> Completou o Ensino Médio, mas não completou a Faculdade.</td></tr>\n",
    "    <tr> <td> F </td> <td> Completou a Faculdade, mas não completou a Pós-graduação.</td></tr>\n",
    "    <tr> <td> G </td> <td> Completou a Pós-graduação.</td></tr>\n",
    "    <tr> <td> H </td> <td> Não sei.</td></tr>\n",
    "</table>"
   ]
  },
  {
   "cell_type": "code",
   "execution_count": null,
   "id": "8GM3k6QakMY3",
   "metadata": {
    "colab": {
     "base_uri": "https://localhost:8080/"
    },
    "id": "8GM3k6QakMY3",
    "outputId": "022d8a2e-0f07-43d9-bbf4-df35643a8aee"
   },
   "outputs": [],
   "source": [
    "dfC.groupby('Q002')['NU_NOTA_MT'].mean()"
   ]
  },
  {
   "cell_type": "markdown",
   "id": "XM3Iy83FMdoY",
   "metadata": {
    "id": "XM3Iy83FMdoY"
   },
   "source": [
    "# Acesso à tecnologia influencia na nota?"
   ]
  },
  {
   "cell_type": "markdown",
   "id": "2FChvq9sl04U",
   "metadata": {
    "id": "2FChvq9sl04U"
   },
   "source": [
    "<h3> Média de nota de matemática por computador em casa</h3>\n",
    "<h4>Tabela: </h4>\n",
    "<table>\n",
    "    <tr> <th> Letra </th> <th> Quantos computadores tem em casa </th></tr>    \n",
    "    <tr> <td> A </td> <td> Nenhum.</td></tr>\n",
    "    <tr> <td> B </td> <td> Um.</td></tr>\n",
    "    <tr> <td> C </td> <td> Dois.</td></tr>\n",
    "    <tr> <td> D </td> <td> Três.</td></tr>\n",
    "    <tr> <td> E </td> <td> Quatro ou mais.</td></tr>\n",
    "</table>\n"
   ]
  },
  {
   "cell_type": "code",
   "execution_count": null,
   "id": "b2lzGzdEkteZ",
   "metadata": {
    "colab": {
     "base_uri": "https://localhost:8080/",
     "height": 294
    },
    "id": "b2lzGzdEkteZ",
    "outputId": "24996831-570f-4690-cdfe-e00b48917632"
   },
   "outputs": [],
   "source": [
    "dfC.groupby('Q024')['NU_NOTA_MT'].mean().plot(kind='bar')"
   ]
  },
  {
   "cell_type": "markdown",
   "id": "2E-97hCmKGk5",
   "metadata": {
    "id": "2E-97hCmKGk5"
   },
   "source": [
    "# Qual o participante mais novo? E o mais velho? Qual a média de idade?"
   ]
  },
  {
   "cell_type": "code",
   "execution_count": null,
   "id": "aPsBZj1cKeiZ",
   "metadata": {
    "colab": {
     "base_uri": "https://localhost:8080/"
    },
    "id": "aPsBZj1cKeiZ",
    "outputId": "5df146dd-cbc0-41a0-c381-c49143d774c8"
   },
   "outputs": [],
   "source": [
    "Nu_Idade = df[\"NU_IDADE\"]\n",
    "Nu_Idade.hist(bins = 15)\n",
    "print('Participante mais novo tinha:',Nu_Idade.min())\n",
    "print('Participante mais velho tinha:',Nu_Idade.max())\n",
    "print('Média da idade dos participantes era de:',Nu_Idade.mean())"
   ]
  },
  {
   "cell_type": "markdown",
   "id": "riuOLVawK7z-",
   "metadata": {
    "id": "riuOLVawK7z-"
   },
   "source": [
    "# Qual a porcentagem de gênero entre os participantes?"
   ]
  },
  {
   "cell_type": "code",
   "execution_count": null,
   "id": "FlbvVoooLFqJ",
   "metadata": {
    "colab": {
     "base_uri": "https://localhost:8080/"
    },
    "id": "FlbvVoooLFqJ",
    "outputId": "453ae923-b1ba-4cee-bfcd-638ae6d26349"
   },
   "outputs": [],
   "source": [
    "Generos = df[\"TP_SEXO\"]\n",
    "distGeneros = Generos.value_counts()\n",
    "percenteGenero = [(100 * x)/distGeneros.sum() for x in distGeneros]\n",
    "print(percenteGenero)\n",
    "distGeneros.plot(kind='pie', title = 'F - Feminino\\nM- Masculino')"
   ]
  },
  {
   "cell_type": "markdown",
   "id": "7RZeDTZQUgsp",
   "metadata": {
    "id": "7RZeDTZQUgsp"
   },
   "source": [
    "# Qual a porcentagem de mulheres grávidas?\n"
   ]
  },
  {
   "cell_type": "code",
   "execution_count": null,
   "id": "z0ZubLtLUhQ3",
   "metadata": {
    "colab": {
     "base_uri": "https://localhost:8080/"
    },
    "id": "z0ZubLtLUhQ3",
    "outputId": "58ee07b7-06c8-4f09-da62-9c8ce26e5073"
   },
   "outputs": [],
   "source": [
    "Mulher = df.loc[df['TP_SEXO']=='F']\n",
    "Gestantes = Mulher[\"IN_GESTANTE\"]\n",
    "distInGestante = Gestantes.value_counts()\n",
    "percenteGestante = [(100 * x)/distInGestante.sum() for x in distInGestante]\n",
    "print(percenteGestante)\n",
    "distInGestante.plot(kind='pie', title = '0 - Não Grávida\\n1 - Grávida')"
   ]
  },
  {
   "cell_type": "markdown",
   "id": "WNEjdlUqLPjP",
   "metadata": {
    "id": "WNEjdlUqLPjP"
   },
   "source": [
    "# Qual a porcentagem das escolhas entre inglês ou espanhol?"
   ]
  },
  {
   "cell_type": "code",
   "execution_count": null,
   "id": "dt3kzd_sLcp-",
   "metadata": {
    "colab": {
     "base_uri": "https://localhost:8080/"
    },
    "id": "dt3kzd_sLcp-",
    "outputId": "c8469502-6d1d-4172-fe92-5ad2ed079a96"
   },
   "outputs": [],
   "source": [
    "Linguagem = df[\"TP_LINGUA\"]\n",
    "distLinguagens = Linguagem.value_counts()\n",
    "percenteLinguagens = [(100 * x)/distLinguagens.sum() for x in distLinguagens]\n",
    "print(percenteLinguagens)\n",
    "distLinguagens.plot(kind='pie', title = '0 - Inglês\\n1-Espanhol')"
   ]
  },
  {
   "cell_type": "markdown",
   "id": "PFBzpZ8sLVi0",
   "metadata": {
    "id": "PFBzpZ8sLVi0"
   },
   "source": [
    "# Qual o impacto na nota causado pela necessidade de se deslocar de uma cidade para outra para fazer a prova?"
   ]
  },
  {
   "cell_type": "code",
   "execution_count": null,
   "id": "JZFEYfXuLiqD",
   "metadata": {
    "colab": {
     "base_uri": "https://localhost:8080/",
     "height": 296
    },
    "id": "JZFEYfXuLiqD",
    "outputId": "350de05b-6937-405c-e996-9d6784e56ea3"
   },
   "outputs": [],
   "source": [
    "LocalDif = df.loc[df[\"NO_MUNICIPIO_RESIDENCIA\"] != df[\"NO_MUNICIPIO_PROVA\"]] \n",
    "Linguagens = LocalDif[\"NU_NOTA_LC\"]\n",
    "Matematica = LocalDif[\"NU_NOTA_MT\"]\n",
    "Humanas = LocalDif[\"NU_NOTA_CN\"]\n",
    "Ciencias = LocalDif[\"NU_NOTA_CH\"]\n",
    "Redacao = LocalDif['NU_NOTA_REDACAO']\n",
    "mediaGeralDif = (Linguagens + Matematica + Humanas + Ciencias + Redacao)/5\n",
    "\n",
    "MesmoLocal = df.loc[df[\"NO_MUNICIPIO_RESIDENCIA\"] == df[\"NO_MUNICIPIO_PROVA\"]] \n",
    "\n",
    "Linguagens = MesmoLocal[\"NU_NOTA_LC\"]\n",
    "Matematica = MesmoLocal[\"NU_NOTA_MT\"]\n",
    "Humanas = MesmoLocal[\"NU_NOTA_CN\"]\n",
    "Ciencias = MesmoLocal[\"NU_NOTA_CH\"]\n",
    "Redacao = MesmoLocal['NU_NOTA_REDACAO']\n",
    "mediaGeralLocal = (Linguagens + Matematica + Humanas + Ciencias +  Redacao)/5\n",
    "lst = [[mediaGeralDif.mean(), mediaGeralLocal.mean()]]\n",
    "\n",
    "comparacao = pd.DataFrame(lst, columns = ['Cidades_Diferentes', 'Mesma_Cidade'])\n",
    "comparacao.plot(kind = 'bar')\n",
    "print(comparacao)"
   ]
  },
  {
   "cell_type": "markdown",
   "id": "Q5S_OPmmoVIr",
   "metadata": {
    "id": "Q5S_OPmmoVIr"
   },
   "source": [
    "\n",
    "\n",
    "# Ranking\n",
    "\n",
    "\n"
   ]
  },
  {
   "cell_type": "code",
   "execution_count": null,
   "id": "HtTi_7cWoVhU",
   "metadata": {
    "colab": {
     "base_uri": "https://localhost:8080/"
    },
    "id": "HtTi_7cWoVhU",
    "outputId": "01e5a8fa-3b34-4efb-86c6-5490e4b5b0ed"
   },
   "outputs": [],
   "source": [
    "num_prova = [515] #Códigos das 4 diferentes cores de cadernos de matemática do ENEM 2019\n",
    "prova = prova[prova['CO_PROVA'].notnull()] \n",
    "frames = []\n",
    "#Para cada cor de caderno:\n",
    "for num in num_prova:\n",
    "  #Seleciona a prova que tem o código igual à cor que está iterando\n",
    "  analise_questoes = df[df['CO_PROVA_MT']==num]\n",
    "  analise_questoes = analise_questoes[analise_questoes['TP_PRESENCA_MT']==1] #Seleciona só quem esteve presente na prova de matemática\n",
    "  analise_questoes = analise_questoes[analise_questoes['IN_TREINEIRO']==0] #Remove todos os treineiros da base\n",
    "\n",
    "  #Passa as respostas de todas as pessoas para uma lista, gerando para cada inscrito uma lista dentro dessa lista questoes_marcadas com todos os resultados\n",
    "  questoes_marcadas = analise_questoes['TX_RESPOSTAS_MT'].tolist()\n",
    "  notas_alunos = analise_questoes['NU_NOTA_MT'].tolist()\n",
    "  \n",
    "  questoes_gabarito_tmp = analise_questoes['TX_GABARITO_MT'].tolist()\n",
    "  questoes_gabarito = questoes_gabarito_tmp[0] #questoes_gabarito é uma lista que recebe o gabarito do caderno da cor selecionada\n",
    "\n",
    " #inicia uma matriz de nxm sendo n = tamanho de inscritos que fizeram o caderno que estamos iterando\n",
    " # m = quantidade de questões na prova = 45 (Sempre constante).\n",
    "  vetorAcertos = np.zeros(((len(questoes_marcadas)),45),dtype=np.int64)\n",
    "\n",
    "#Para cada inscrito:\n",
    "  for alunos in range(len(questoes_marcadas)):\n",
    "    #Para cada questão:\n",
    "    for i in range(45):\n",
    "      #Se o aulo acertou, na matriz de erros ele adiciona um 1 para cada erro no index = questão errada\n",
    "      if (questoes_marcadas[alunos][i] == questoes_gabarito[i] ):\n",
    "        vetorAcertos[alunos][i] += 1\n"
   ]
  },
  {
   "cell_type": "code",
   "execution_count": null,
   "id": "ypgZ5544qdTg",
   "metadata": {
    "colab": {
     "base_uri": "https://localhost:8080/"
    },
    "id": "ypgZ5544qdTg",
    "outputId": "efd3cfa3-05f7-4a7d-f19a-c788f1797996"
   },
   "outputs": [],
   "source": [
    "print(len(vetorAcertos),len(notas_alunos))"
   ]
  },
  {
   "cell_type": "code",
   "execution_count": null,
   "id": "E__M8TdCs5Vx",
   "metadata": {
    "id": "E__M8TdCs5Vx"
   },
   "outputs": [],
   "source": [
    "#}for i in \n",
    "#somaAcertos = vetorAcertos.sum(axis=0)\n",
    "#print(m)\n"
   ]
  },
  {
   "cell_type": "code",
   "execution_count": null,
   "id": "7vnFS-3ctwRn",
   "metadata": {
    "id": "7vnFS-3ctwRn"
   },
   "outputs": [],
   "source": [
    "#result = 0\n",
    "#for i in range(len(vetorAcertos[1])):\n",
    "#  result += vetorAcertos[46948][i] * m[0][i]\n",
    "#print(result)\n",
    "  "
   ]
  },
  {
   "cell_type": "markdown",
   "id": "EjZZKnLz7IlF",
   "metadata": {
    "id": "EjZZKnLz7IlF"
   },
   "source": [
    "# Nova seção"
   ]
  },
  {
   "cell_type": "code",
   "execution_count": null,
   "id": "kLL2050c7C0j",
   "metadata": {
    "id": "kLL2050c7C0j"
   },
   "outputs": [],
   "source": [
    "data =np.array(vetorAcertos)\n",
    "dfnota = pd.DataFrame(data)\n",
    "notasAlunos = np.array(notas_alunos)\n",
    "dfnotasAlunos = pd.Series(notasAlunos)\n"
   ]
  },
  {
   "cell_type": "code",
   "execution_count": null,
   "id": "MArKnA4C7G3q",
   "metadata": {
    "colab": {
     "base_uri": "https://localhost:8080/"
    },
    "id": "MArKnA4C7G3q",
    "outputId": "ccd8a8bf-bcbc-4eb3-95b2-da0f1f101aeb"
   },
   "outputs": [],
   "source": [
    "from sklearn.model_selection import train_test_split\n",
    "from sklearn.utils.multiclass import type_of_target\n",
    "X_train, X_test, y_train, y_test = \\\n",
    "  train_test_split(dfnota,\n",
    "                   dfnotasAlunos,\n",
    "                   test_size=0.33, \n",
    "                   random_state=42)\n",
    "y_train"
   ]
  },
  {
   "cell_type": "code",
   "execution_count": null,
   "id": "s7-vYMIH7RBJ",
   "metadata": {
    "colab": {
     "base_uri": "https://localhost:8080/"
    },
    "id": "s7-vYMIH7RBJ",
    "outputId": "00e7ea61-0670-4389-bab6-96c868aad920"
   },
   "outputs": [],
   "source": [
    "from sklearn.neural_network import MLPClassifier\n",
    "MLPC = MLPClassifier(random_state=1, max_iter=300)\n",
    "MLPC.fit(X_train, y_train.astype('int'))\n",
    "MLPC_stats = MLPC.score(X_test, y_test.astype('int'))\n",
    "MLPC_stats"
   ]
  },
  {
   "cell_type": "code",
   "execution_count": null,
   "id": "a2m-gb787Spx",
   "metadata": {
    "colab": {
     "base_uri": "https://localhost:8080/"
    },
    "id": "a2m-gb787Spx",
    "outputId": "90af18a9-2126-41c6-e7a8-6fff53f2ed46"
   },
   "outputs": [],
   "source": [
    "resolutionMLPC = MLPC.predict(X_test)\n",
    "resMLPC = pd.DataFrame(resolutionMLPC, index = X_test.index.tolist())\n",
    "dfrealresMLPC = pd.DataFrame(y_test)\n",
    "resultMLPC = pd.concat([dfrealresMLPC, resMLPC], axis=1, ignore_index=True)\n",
    "#a= np.array(resultMLPC[1]).tolist()\n",
    "#print(a[:420])\n",
    "resultMLPC = resultMLPC.sort_values(by= 0, ascending=True)\n",
    "resultMLPC = resultMLPC.rename(columns = {0: 'Nota_Enem', 1: 'Nota_ML'}, inplace = False)\n",
    "botTopML = resultMLPC.sort_values(by= 'Nota_ML', ascending=True)\n",
    "print(resultMLPC)#bot 5 e top 5 pela nota do enem\n",
    "print(botTopML)#bot 5 e top 5 pelo machine learning"
   ]
  },
  {
   "cell_type": "code",
   "execution_count": null,
   "id": "0jtyQuk4X_HN",
   "metadata": {
    "colab": {
     "base_uri": "https://localhost:8080/",
     "height": 609
    },
    "id": "0jtyQuk4X_HN",
    "outputId": "60b3b01c-d988-4a63-baa0-c93ad06b34b1"
   },
   "outputs": [],
   "source": [
    "a= np.array(botTopML)\n",
    "b = (a[:,1]) - (a[:,0])\n",
    "diferencas = pd.DataFrame(b)\n",
    "diferencas = diferencas.reset_index()\n",
    "diferencas = diferencas.drop(['index'], axis = 1)\n",
    "diferencas = diferencas\n",
    "diferencas.plot(figsize = (15,10))"
   ]
  },
  {
   "cell_type": "code",
   "execution_count": null,
   "id": "QHfqQH87ewAd",
   "metadata": {
    "colab": {
     "base_uri": "https://localhost:8080/"
    },
    "id": "QHfqQH87ewAd",
    "outputId": "08f8e69b-bccc-4904-e2c8-679976130d9d"
   },
   "outputs": [],
   "source": [
    "vetorSoUmaErrada = np.zeros((45,45),dtype=np.int64)\n",
    "vetorSoUmaCerta = np.zeros((45,45),dtype=np.int64)\n",
    "\n",
    "for i in range(len(vetorSoUmaCerta)):\n",
    "  for j in range(len(vetorSoUmaCerta[i])):\n",
    "    if i == j : \n",
    "      vetorSoUmaCerta[i][j] = 1\n",
    "\n",
    "for i in range(len(vetorSoUmaErrada)):\n",
    "  for j in range(len(vetorSoUmaErrada[i])):\n",
    "    if i != j : \n",
    "      vetorSoUmaErrada[i][j] = 1\n",
    "\n",
    "print(vetorSoUmaCerta)\n",
    "print(vetorSoUmaErrada)"
   ]
  },
  {
   "cell_type": "code",
   "execution_count": null,
   "id": "pgoQB2dLfg9Y",
   "metadata": {
    "colab": {
     "base_uri": "https://localhost:8080/",
     "height": 1000
    },
    "id": "pgoQB2dLfg9Y",
    "outputId": "37dea403-0e95-4ee9-b181-27ef394f5b85"
   },
   "outputs": [],
   "source": [
    "dfUmaErrada = pd.DataFrame(vetorSoUmaErrada)\n",
    "valorQE = MLPC.predict(dfUmaErrada).tolist()\n",
    "valorQE.index(min(valorQE))\n",
    "dfTESTE = pd.DataFrame(valorQE)\n",
    "prova_mat = prova[prova['CO_PROVA'].notnull()] \n",
    "prova_mat = prova_mat[prova_mat['CO_PROVA']==515]\n",
    "prova_mat = prova_mat['CO_HABILIDADE']\n",
    "prova_mat = prova_mat.rename_axis('index').reset_index()\n",
    "dfTESTE = pd.concat([dfTESTE, prova_mat], axis=1, ignore_index=True)\n",
    "dfTESTE = dfTESTE.drop(1, axis = 1)\n",
    "dfTESTE = dfTESTE.sort_values(by= 0, ascending=True)\n",
    "dfTESTE = dfTESTE.rename(columns = {0: 'Nota_ML', 2: 'CO_HABILIDADE'}, inplace = False)\n",
    "dfTESTE"
   ]
  },
  {
   "cell_type": "code",
   "execution_count": null,
   "id": "fVs_SkZGtQsN",
   "metadata": {
    "id": "fVs_SkZGtQsN"
   },
   "outputs": [],
   "source": []
  }
 ],
 "metadata": {
  "colab": {
   "collapsed_sections": [
    "yIo4WPfhLgoQ",
    "Firh6gckMX08",
    "2E-97hCmKGk5",
    "riuOLVawK7z-",
    "7RZeDTZQUgsp",
    "WNEjdlUqLPjP"
   ],
   "name": "microdadosENEM.ipynb",
   "provenance": []
  },
  "kernelspec": {
   "display_name": "Python 3",
   "language": "python",
   "name": "python3"
  },
  "language_info": {
   "codemirror_mode": {
    "name": "ipython",
    "version": 3
   },
   "file_extension": ".py",
   "mimetype": "text/x-python",
   "name": "python",
   "nbconvert_exporter": "python",
   "pygments_lexer": "ipython3",
   "version": "3.8.8"
  }
 },
 "nbformat": 4,
 "nbformat_minor": 5
}
